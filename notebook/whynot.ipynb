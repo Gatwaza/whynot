{
 "cells": [
  {
   "cell_type": "code",
   "execution_count": 1,
   "metadata": {},
   "outputs": [
    {
     "name": "stdout",
     "output_type": "stream",
     "text": [
      "Model Accuracy: 0.8148148148148148\n"
     ]
    }
   ],
   "source": [
    "import pandas as pd\n",
    "from sklearn.preprocessing import StandardScaler, LabelEncoder\n",
    "from sklearn.neural_network import MLPClassifier\n",
    "from sklearn.model_selection import train_test_split\n",
    "import joblib\n",
    "\n",
    "# Load data\n",
    "data = pd.read_csv('/Users/kigali/Desktop/whynot/whynot/data/Heart_Disease_Prediction.csv')\n",
    "\n",
    "# Preprocess data\n",
    "def preprocess_data(df):\n",
    "    target_column = 'Heart Disease'\n",
    "    feature_columns = ['Age', 'Sex', 'Chest pain type', 'BP', 'Cholesterol', \n",
    "                       'FBS over 120', 'EKG results', 'Max HR', \n",
    "                       'Exercise angina', 'ST depression', 'Slope of ST', \n",
    "                       'Number of vessels fluro', 'Thallium']\n",
    "\n",
    "    df[target_column] = df[target_column].map({'Presence': 1, 'Absence': 0})\n",
    "\n",
    "    # Encode categorical features\n",
    "    encoders = {}\n",
    "    for feature in ['Sex', 'Chest pain type', 'Exercise angina', 'Slope of ST']:\n",
    "        encoder = LabelEncoder()\n",
    "        df[feature] = encoder.fit_transform(df[feature])\n",
    "        encoders[feature] = encoder\n",
    "\n",
    "    # Save encoders\n",
    "    for feature, encoder in encoders.items():\n",
    "        joblib.dump(encoder, f'../models/encoder_{feature}.pkl')\n",
    "\n",
    "    X = df[feature_columns]\n",
    "    y = df[target_column]\n",
    "\n",
    "    X_train, X_test, y_train, y_test = train_test_split(X, y, test_size=0.2, random_state=42)\n",
    "\n",
    "    return X_train, y_train, X_test, y_test\n",
    "\n",
    "X_train, y_train, X_test, y_test = preprocess_data(data)\n",
    "\n",
    "# Scale data\n",
    "scaler = StandardScaler()\n",
    "X_train_scaled = scaler.fit_transform(X_train)\n",
    "X_test_scaled = scaler.transform(X_test)\n",
    "\n",
    "# Train model\n",
    "model = MLPClassifier(hidden_layer_sizes=(100, 50), max_iter=1000)\n",
    "model.fit(X_train_scaled, y_train)\n",
    "\n",
    "# Save scaler and model\n",
    "joblib.dump(scaler, '../models/scaler.pkl')\n",
    "joblib.dump(model, '../models/mlp_model.pkl')\n",
    "\n",
    "# Evaluate model\n",
    "accuracy = model.score(X_test_scaled, y_test)\n",
    "print(f'Model Accuracy: {accuracy}')\n"
   ]
  }
 ],
 "metadata": {
  "kernelspec": {
   "display_name": "Python 3 (ipykernel)",
   "language": "python",
   "name": "python3"
  },
  "language_info": {
   "codemirror_mode": {
    "name": "ipython",
    "version": 3
   },
   "file_extension": ".py",
   "mimetype": "text/x-python",
   "name": "python",
   "nbconvert_exporter": "python",
   "pygments_lexer": "ipython3",
   "version": "3.12.4"
  }
 },
 "nbformat": 4,
 "nbformat_minor": 4
}
